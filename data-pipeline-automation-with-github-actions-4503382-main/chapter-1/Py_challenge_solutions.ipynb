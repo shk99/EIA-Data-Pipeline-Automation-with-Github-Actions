{
 "cells": [
  {
   "cell_type": "markdown",
   "metadata": {},
   "source": [
    "# Chapter 1 Challenge Solution (Python)"
   ]
  },
  {
   "cell_type": "markdown",
   "metadata": {},
   "source": [
    "## Load the libraries"
   ]
  },
  {
   "cell_type": "code",
   "execution_count": null,
   "metadata": {},
   "outputs": [],
   "source": [
    "import eia_api as api\n",
    "import os\n",
    "import datetime\n",
    "import plotly.express as px"
   ]
  },
  {
   "cell_type": "markdown",
   "metadata": {},
   "source": [
    "## Question 1\n",
    "\n",
    "Extract from the EIA dashboard the metadata of the San Diego Gas and Electric balancing authority subregion (SUBBA) under California Independent System Operator parent (PARENT). This series is under the `Hourly Demand By Subregion` sub-category.\n",
    "\n",
    "## Solution\n",
    "\n",
    "On the API Dashboard select the following route: \n",
    "- Electricity\n",
    "- Electric Power Operation (Daily and Hourly)\n",
    "- Hourly Demand by Subregion \n",
    "\n",
    "Once the filters loaded, go to facets and you can either use directly the `SUBBA` filter and find the San Diego Gas and Electric balancing authority subregion (out of the 83 series), or select first  California Independent System Operator on the `PARENT` filter and then it narrow down the options the four sub-regions under this parent.\n",
    "\n",
    "\n",
    "If you go with the last option, you should expect to have the following API URL:\n",
    "\n",
    "```\n",
    "https://api.eia.gov/v2/electricity/rto/region-sub-ba-data/data/?frequency=hourly&data[0]=value&facets[subba][]=SDGE&sort[0][column]=period&sort[0][direction]=desc&offset=0&length=5000\n",
    "```\n",
    "\n",
    "Which enables you to extract the API route path (as we saw before) - `electricity/rto/region-sub-ba-data/data`\n",
    "\n",
    "In addition, you can extract from the header the facets argument for the GET request:\n",
    "\n",
    "\n",
    "```json\n",
    "{\n",
    "    \"frequency\": \"hourly\",\n",
    "    \"data\": [\n",
    "        \"value\"\n",
    "    ],\n",
    "    \"facets\": {\n",
    "        \"parent\": [\n",
    "            \"CISO\"\n",
    "        ],\n",
    "        \"subba\": [\n",
    "            \"SDGE\"\n",
    "        ]\n",
    "    },\n",
    "    \"start\": null,\n",
    "    \"end\": null,\n",
    "    \"sort\": [\n",
    "        {\n",
    "            \"column\": \"period\",\n",
    "            \"direction\": \"desc\"\n",
    "        }\n",
    "    ],\n",
    "    \"offset\": 0,\n",
    "    \"length\": 5000\n",
    "}\n",
    "```\n",
    "\n",
    "\n",
    "The link to the filtered dashboard is available [here](https://www.eia.gov/opendata/browser/electricity/rto/region-sub-ba-data?frequency=hourly&data=value;&facets=subba;&subba=SDGE;&sortColumn=period;&sortDirection=desc;)."
   ]
  },
  {
   "cell_type": "markdown",
   "metadata": {},
   "source": [
    "## Question 2\n",
    "\n",
    "Set a GET request to pull observations between Jan 1st and Jan 31st 2024 with R/Python\n",
    "\n",
    "## Solution\n",
    "\n",
    "Using the information we pulled from the API dashboard we can set the GET request parameters:"
   ]
  },
  {
   "cell_type": "code",
   "execution_count": null,
   "metadata": {},
   "outputs": [],
   "source": [
    "api_key = os.getenv('EIA_API_KEY')\n",
    "\n",
    "api_path = \"electricity/rto/region-sub-ba-data/data/\"\n",
    "\n",
    "frequency = \"hourly\"\n",
    "\n",
    "facets = {\n",
    "    \"parent\": \"CISO\",\n",
    "    \"subba\": \"SDGE\"\n",
    "}\n",
    "\n",
    "start = datetime.datetime(2024, 1, 1, 1)\n",
    "end = datetime.datetime(2024, 1, 31, 23)"
   ]
  },
  {
   "cell_type": "code",
   "execution_count": null,
   "metadata": {},
   "outputs": [],
   "source": [
    "df1 = api.eia_get(\n",
    "    api_key = api_key,\n",
    "    api_path = api_path,\n",
    "    frequency = frequency,\n",
    "    facets = facets,\n",
    "    start = start,\n",
    "    end = end\n",
    ")"
   ]
  },
  {
   "cell_type": "code",
   "execution_count": null,
   "metadata": {},
   "outputs": [],
   "source": [
    "df1.data"
   ]
  },
  {
   "cell_type": "code",
   "execution_count": null,
   "metadata": {},
   "outputs": [],
   "source": [
    "px.line(df1.data, x=\"period\", y=\"value\")"
   ]
  },
  {
   "cell_type": "markdown",
   "metadata": {},
   "source": [
    "## Question 3\n",
    "\n",
    "Let's use the backfill function to pull data between Jan 1st 2020 and Feb 1st 2024:"
   ]
  },
  {
   "cell_type": "code",
   "execution_count": null,
   "metadata": {},
   "outputs": [],
   "source": [
    "start = datetime.datetime(2020, 1, 1, 1)\n",
    "end = datetime.datetime(2024, 2, 1, 23)\n",
    "offset = 2000\n",
    "\n",
    "df2 = api.eia_backfill(\n",
    "  start = start,\n",
    "  end = end,\n",
    "  offset = offset,\n",
    "  api_path= api_path,\n",
    "  api_key = api_key,\n",
    "  facets = facets)"
   ]
  },
  {
   "cell_type": "code",
   "execution_count": null,
   "metadata": {},
   "outputs": [],
   "source": [
    "df2.data"
   ]
  },
  {
   "cell_type": "code",
   "execution_count": null,
   "metadata": {},
   "outputs": [],
   "source": [
    "px.line(df2.data, x=\"period\", y=\"value\")"
   ]
  }
 ],
 "metadata": {
  "kernelspec": {
   "display_name": "R_ENV",
   "language": "python",
   "name": "python3"
  },
  "language_info": {
   "codemirror_mode": {
    "name": "ipython",
    "version": 3
   },
   "file_extension": ".py",
   "mimetype": "text/x-python",
   "name": "python",
   "nbconvert_exporter": "python",
   "pygments_lexer": "ipython3",
   "version": "3.10.12"
  }
 },
 "nbformat": 4,
 "nbformat_minor": 2
}
