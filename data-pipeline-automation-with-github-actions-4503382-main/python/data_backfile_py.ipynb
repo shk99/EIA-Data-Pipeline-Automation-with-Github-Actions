{
  "cells": [
    {
      "cell_type": "raw",
      "metadata": {},
      "source": [
        "---\n",
        "title: EIA API - Data Backfill (Python Version)\n",
        "format:\n",
        "  html:\n",
        "    code-fold: true\n",
        "---"
      ],
      "id": "d4369887"
    },
    {
      "cell_type": "markdown",
      "metadata": {},
      "source": [
        "The goal of this doc is to execute an initial data pull of the hourly demand for California balancing authority subregion (CISO). This includes the following four independent system operators:\n",
        "\n",
        "- Pacific Gas and Electric (PGAE)\n",
        "- Southern California Edison (SCE)\n",
        "- San Diego Gas and Electric (SDGE)\n",
        "- Valley Electric Association (VEA)\n",
        "\n",
        "The data backfill process includes the following steps:\n",
        "\n",
        "- Setting parameters and pulling the data\n",
        "- Data quality checks\n",
        "- Saving the data and creating a log file\n",
        "\n",
        "\n",
        "## Load Libraries\n"
      ],
      "id": "ba1d9456"
    },
    {
      "cell_type": "code",
      "metadata": {},
      "source": [
        "import eia_api as api\n",
        "import eia_data \n",
        "import pandas as pd\n",
        "import numpy as np\n",
        "import requests\n",
        "import json\n",
        "import os\n",
        "import datetime\n",
        "import plotly.express as px"
      ],
      "id": "aabc5fc3",
      "execution_count": null,
      "outputs": []
    },
    {
      "cell_type": "code",
      "metadata": {},
      "source": [
        "raw_json = open(\"../metadata/series.json\")\n",
        "meta_json = json.load(raw_json)\n",
        "series = pd.DataFrame(meta_json[\"series\"])\n",
        "api_path = meta_json[\"api_path\"]"
      ],
      "id": "289a7bea",
      "execution_count": null,
      "outputs": []
    },
    {
      "cell_type": "code",
      "metadata": {},
      "source": [
        "facets_template = {\n",
        "  \"parent\" : None,\n",
        "  \"subba\" : None\n",
        "}\n",
        "\n",
        "start = datetime.datetime(2018, 7, 1, 8)\n",
        "end = datetime.datetime(2024, 2, 18, 1)\n",
        "\n",
        "offset = 2250\n",
        "\n",
        "eia_api_key = os.getenv('EIA_API_KEY')\n",
        "\n",
        "meta_path = \"../metadata/ciso_log_py.csv\"\n",
        "data_path = \"../csv/ciso_grid_py.csv\""
      ],
      "id": "1f0b084a",
      "execution_count": null,
      "outputs": []
    },
    {
      "cell_type": "code",
      "metadata": {},
      "source": [
        "metadata = api.eia_metadata(api_key = eia_api_key, api_path = api_path)\n",
        "print(metadata.meta.keys())\n",
        "print(metadata.meta[\"startPeriod\"])\n",
        "print(metadata.meta[\"endPeriod\"])"
      ],
      "id": "87bad132",
      "execution_count": null,
      "outputs": []
    },
    {
      "cell_type": "code",
      "metadata": {},
      "source": [
        "for i in series.index:\n",
        "  facets = facets_template\n",
        "  facets[\"parent\"] = series.at[i, \"parent_id\"]\n",
        "  facets[\"subba\"] = series.at[i, \"subba_id\"]\n",
        "  print(facets)\n",
        "  temp = api.eia_backfill(api_key = eia_api_key, \n",
        "        api_path = api_path+ \"data\", \n",
        "        facets = facets, \n",
        "        start = start,\n",
        "        end = end,\n",
        "        offset = offset) \n",
        "  ts_obj = pd.DataFrame(np.arange(start = start, stop = end + datetime.timedelta(hours = 1), step = datetime.timedelta(hours = 1)).astype(datetime.datetime), columns=[\"index\"])\n",
        "  ts_obj  = ts_obj.merge(temp.data, left_on = \"index\", right_on = \"period\", how=\"left\")\n",
        "  ts_obj.drop(\"period\", axis = 1, inplace= True)\n",
        "  ts_obj = ts_obj.rename(columns= {\"index\": \"period\"})\n",
        "\n",
        "  meta_temp = eia_data.create_metadata(data = ts_obj, start = start, end = end, type = \"backfill\")\n",
        "  meta_temp[\"index\"] = 1\n",
        "  meta_df = pd.DataFrame([meta_temp])\n",
        "\n",
        "  if i == series.index.start:\n",
        "    data = ts_obj\n",
        "    meta = meta_df\n",
        "  else:\n",
        "    data = data._append(ts_obj)\n",
        "    meta = meta._append(meta_df)\n"
      ],
      "id": "dccd8bad",
      "execution_count": null,
      "outputs": []
    },
    {
      "cell_type": "code",
      "metadata": {},
      "source": [
        "print(meta)\n",
        "# The initial pull has some missing values\n",
        "\n",
        "data.head()"
      ],
      "id": "bc0f8828",
      "execution_count": null,
      "outputs": []
    },
    {
      "cell_type": "code",
      "metadata": {},
      "source": [
        "# Save the data\n",
        "d = eia_data.append_data(data_path = data_path, new_data = data, init = True, save = True)\n",
        "# Save the metadata\n",
        "meta[\"success\"] = True\n",
        "meta[\"update\"] = True\n",
        "m = eia_data.append_metadata(meta_path = \"../metadata/ciso_log_py.csv\", meta = meta, save = True, init = True)\n",
        "print(m)"
      ],
      "id": "572918f7",
      "execution_count": null,
      "outputs": []
    },
    {
      "cell_type": "markdown",
      "metadata": {},
      "source": [
        "### Plot the Series\n",
        "\n",
        "We will use Plotly to visualize the series:\n"
      ],
      "id": "5122b461"
    },
    {
      "cell_type": "code",
      "metadata": {},
      "source": [
        "d = data.sort_values(by = [\"subba\", \"period\"])\n",
        "\n",
        "p = px.line(d, x=\"period\", y=\"value\", color=\"subba\")\n",
        "\n",
        "p.show()"
      ],
      "id": "493d2b41",
      "execution_count": null,
      "outputs": []
    }
  ],
  "metadata": {
    "kernelspec": {
      "display_name": "Python 3",
      "language": "python",
      "name": "python3"
    }
  },
  "nbformat": 4,
  "nbformat_minor": 5
}